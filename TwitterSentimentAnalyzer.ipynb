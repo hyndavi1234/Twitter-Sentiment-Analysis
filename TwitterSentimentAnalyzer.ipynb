{
 "cells": [
  {
   "cell_type": "markdown",
   "metadata": {},
   "source": [
    "### Import Modules"
   ]
  },
  {
   "cell_type": "code",
   "execution_count": 1,
   "metadata": {},
   "outputs": [],
   "source": [
    "import sklearn\n",
    "from sklearn.model_selection import train_test_split, RandomizedSearchCV, GridSearchCV\n",
    "from sklearn.preprocessing import LabelEncoder, MinMaxScaler\n",
    "from sklearn.pipeline import Pipeline\n",
    "from sklearn.feature_extraction.text import CountVectorizer, TfidfVectorizer\n",
    "from sklearn.metrics import accuracy_score, classification_report\n",
    "from sklearn.naive_bayes import MultinomialNB\n",
    "from sklearn.ensemble import RandomForestClassifier, VotingClassifier\n",
    "from sklearn.linear_model import LogisticRegression\n",
    "import xgboost\n",
    "from xgboost import XGBClassifier\n",
    "import gensim\n",
    "from gensim.models import Word2Vec, KeyedVectors\n",
    "import gensim.downloader as api\n",
    "import tensorflow\n",
    "from tensorflow.keras.preprocessing.text import Tokenizer\n",
    "from tensorflow.keras.preprocessing.sequence import pad_sequences\n",
    "from bs4 import BeautifulSoup\n",
    "import nltk\n",
    "from nltk.corpus import stopwords\n",
    "from nltk.stem.snowball import SnowballStemmer\n",
    "nltk.download('wordnet')\n",
    "nltk.download('omw-1.4')\n",
    "from nltk.stem import WordNetLemmatizer\n",
    "nltk.download('vader_lexicon')\n",
    "from nltk.sentiment.vader import SentimentIntensityAnalyzer\n",
    "import pandas as pd\n",
    "import numpy as np\n",
    "import seaborn as sns\n",
    "import re\n",
    "import string\n",
    "import os"
   ]
  },
  {
   "cell_type": "markdown",
   "metadata": {},
   "source": [
    "## Global Variables"
   ]
  },
  {
   "cell_type": "code",
   "execution_count": 96,
   "metadata": {},
   "outputs": [],
   "source": [
    "DATASET_DIR  = \"C:/Desktop/TwitterSentimentAnalysis/\"\n",
    "DATA_COLUMNS = [1, 2, 3, 4]\n",
    "CLASS_VALUES = ['-1', '0', '1']\n",
    "RANDOM_STATE =  42"
   ]
  },
  {
   "cell_type": "markdown",
   "metadata": {},
   "source": [
    "## Data Load"
   ]
  },
  {
   "cell_type": "code",
   "execution_count": 97,
   "metadata": {},
   "outputs": [],
   "source": [
    "obama_data  = pd.read_excel(DATASET_DIR + 'training-Obama-Romney-tweets.xlsx', \n",
    "                            sheet_name= 'Obama', \n",
    "                            usecols= DATA_COLUMNS, \n",
    "                            skiprows = 2, \n",
    "                            header = None, \n",
    "                            converters = {4 : str}\n",
    "                            )\n",
    "romney_data = pd.read_excel(DATASET_DIR + 'training-Obama-Romney-tweets.xlsx', \n",
    "                            sheet_name= 'Romney', \n",
    "                            usecols= DATA_COLUMNS, \n",
    "                            skiprows = 2, \n",
    "                            header = None, \n",
    "                            converters = {4 : str}\n",
    "                            )"
   ]
  },
  {
   "cell_type": "markdown",
   "metadata": {},
   "source": [
    "## Write Results to File"
   ]
  },
  {
   "cell_type": "code",
   "execution_count": 99,
   "metadata": {},
   "outputs": [],
   "source": [
    "def write_output(output_file_name, labels):\n",
    "    with open(output_file_name, 'w') as output_file:\n",
    "        for index, value in enumerate(labels):\n",
    "            if value == 0:\n",
    "                y = -1\n",
    "            elif value == 1:\n",
    "                y = 0\n",
    "            elif value ==2:\n",
    "                y = 1\n",
    "            output_file.write(f'{index+1};;{y}\\n')"
   ]
  },
  {
   "cell_type": "markdown",
   "metadata": {},
   "source": [
    "## Data Cleaning"
   ]
  },
  {
   "cell_type": "code",
   "execution_count": 100,
   "metadata": {},
   "outputs": [],
   "source": [
    "def train_data_clean(df):\n",
    "    '''Function to clean the training data'''\n",
    "    # Drop unnecessary columns and rename header for tweets and class columns\n",
    "    df  = df.drop([1, 2], axis = 'columns').rename({3 : 'tweet_text', 4 : 'class'}, axis = 1)\n",
    "    # Remove rows having missing values\n",
    "    df.dropna(axis = 0, inplace = True)\n",
    "    # Remove classes other than (-1, 0, 1)\n",
    "    df.drop(df[~df['class'].isin(CLASS_VALUES)].index, inplace = True)\n",
    "    # Update the class labels to numeric type\n",
    "    df.replace({'-1' : -1, '0': 0, '1' : 1}, inplace = True)\n",
    "    return df\n",
    "\n",
    "def test_data_clean(df):\n",
    "    '''Function to clean the testing data'''\n",
    "    # Drop unnecessary columns and rename header for tweets and id columns\n",
    "    df  = df.rename({0 : 'tweet_id', 1 : 'tweet_text'}, axis = 1)\n",
    "    # Remove rows having missing values\n",
    "    df.dropna(axis = 0, inplace = True)\n",
    "    return df"
   ]
  },
  {
   "cell_type": "code",
   "execution_count": 101,
   "metadata": {},
   "outputs": [],
   "source": [
    "obama_data = train_data_clean(obama_data)\n",
    "romney_data = train_data_clean(romney_data)"
   ]
  },
  {
   "cell_type": "markdown",
   "metadata": {},
   "source": [
    "##  Data Analysis"
   ]
  },
  {
   "cell_type": "code",
   "execution_count": 103,
   "metadata": {},
   "outputs": [
    {
     "data": {
      "image/png": "[encoded data removed]",
      "text/plain": [
       "<Figure size 640x480 with 1 Axes>"
      ]
     },
     "metadata": {},
     "output_type": "display_data"
    }
   ],
   "source": [
    "obama_data['class'].value_counts(), romney_data['class'].value_counts()\n",
    "o_plt = sns.countplot(x = obama_data['class'])\n",
    "for i in o_plt.containers:\n",
    "    o_plt.bar_label(i,)\n",
    "r_plt = sns.countplot(x = romney_data['class'])\n",
    "for i in r_plt.containers:\n",
    "    r_plt.bar_label(i,)"
   ]
  },
  {
   "cell_type": "markdown",
   "metadata": {},
   "source": [
    "## Data Preprocessing"
   ]
  },
  {
   "cell_type": "code",
   "execution_count": 104,
   "metadata": {},
   "outputs": [],
   "source": [
    "def remove_HTML_tags(text):\n",
    "    '''Function to remove HTML tags from text'''\n",
    "    soup = BeautifulSoup(text, \"html.parser\")  \n",
    "    for data in soup(['style', 'script']):\n",
    "        data.decompose()\n",
    "    return ' '.join(soup.stripped_strings)\n",
    "\n",
    "def remove_URL(text):\n",
    "    '''Function to remove URLs from text'''\n",
    "    return re.sub(r\"http\\S+\", \"\", text)\n",
    "\n",
    "def remove_hastags_mentions(text):\n",
    "    '''Function to remove the Hashtags and mentions from text'''\n",
    "    entities = ['@', '#']\n",
    "    clean_words = [word for word in text.split() if word[0] not in entities]\n",
    "    return ' '.join(clean_words)\n",
    "\n",
    "def remove_punctuations(text):\n",
    "    '''Function to remove punctations from text'''\n",
    "    for punc in string.punctuation:\n",
    "        text = text.replace(punc,'') \n",
    "    return re.sub('[^A-Za-z\\s]', '', text)\n",
    "\n",
    "def decontract_text(text):\n",
    "    '''Funtion to expand words that are in short forms'''\n",
    "    text = re.sub(r\"won\\'t\", \"will not\", text)\n",
    "    text = re.sub(r\"can\\'t\", \"can not\", text)\n",
    "    text = re.sub(r\"n\\'t\", \" not\", text)\n",
    "    text = re.sub(r\"\\'re\", \" are\", text)\n",
    "    text = re.sub(r\"\\'s\", \" is\", text)\n",
    "    text = re.sub(r\"\\'d\", \" would\", text)\n",
    "    text = re.sub(r\"\\'ll\", \" will\", text)\n",
    "    text = re.sub(r\"\\'t\", \" not\", text)\n",
    "    text = re.sub(r\"\\'ve\", \" have\", text)\n",
    "    text = re.sub(r\"\\'d\", \" had\", text)\n",
    "    text = re.sub(r\"\\'m\", \" am\", text)\n",
    "    return text\n",
    "\n",
    "def remove_stopwords(text):\n",
    "    '''Function to remove stopwords from text'''\n",
    "    stopwords = nltk.corpus.stopwords.words('english')\n",
    "    stopwords.remove('won')\n",
    "    stopwords.remove(\"nor\")\n",
    "    stopwords.remove(\"not\")\n",
    "    stopwords.remove(\"no\")\n",
    "    words = [word for word in text.split() if word not in stopwords]\n",
    "    return ' '.join(words)\n",
    "\n",
    "def stemming(text):\n",
    "    '''Function to perform stemming on words of text'''\n",
    "    snowball_stemmer = SnowballStemmer('english')\n",
    "    words = [snowball_stemmer.stem(word) for word in text.split()]\n",
    "    return ' '.join(words)\n",
    "\n",
    "def lemmatization(text):\n",
    "    '''Function to perform lemmatization on words of text'''\n",
    "    wordnet_lemmatizer = WordNetLemmatizer()\n",
    "    words = [wordnet_lemmatizer.lemmatize(word, pos = \"v\") for word in text.split()]\n",
    "    return ' '.join(words)\n",
    "\n",
    "def preprocess_text(text):\n",
    "    '''Function to perform all the preprocessing steps for given text'''\n",
    "    text = text.lower()                   \n",
    "    text = remove_HTML_tags(text)\n",
    "    text = remove_URL(text)\n",
    "    text = remove_hastags_mentions(text)\n",
    "    text = decontract_text(text)\n",
    "    text = remove_punctuations(text)\n",
    "    # text = stemming(text)              # removed stemming (ex case: baseball - basebal) # achieved better results w/o stemming\n",
    "    text = lemmatization(text)\n",
    "    text = remove_stopwords(text)\n",
    "    return text"
   ]
  },
  {
   "cell_type": "code",
   "execution_count": 2,
   "metadata": {},
   "outputs": [],
   "source": [
    "obama_data['tweet_text']  = obama_data['tweet_text'].apply(preprocess_text)\n",
    "romney_data['tweet_text'] = romney_data['tweet_text'].apply(preprocess_text)"
   ]
  },
  {
   "cell_type": "markdown",
   "metadata": {},
   "source": [
    "## Test Data Logic"
   ]
  },
  {
   "cell_type": "code",
   "execution_count": 3,
   "metadata": {},
   "outputs": [],
   "source": [
    "# Data Load\n",
    "obama_test_data  = pd.read_excel(DATASET_DIR + 'final-testData-no-label-Obama-tweets.xlsx', \n",
    "                                 sheet_name= 'Obama', \n",
    "                                 usecols= [0, 1], \n",
    "                                 skiprows = 0, \n",
    "                                 header = None\n",
    "                                 )\n",
    "romney_test_data = pd.read_excel(DATASET_DIR + 'final-testData-no-label-Romney-tweets.xlsx', \n",
    "                                 sheet_name= 'Romney', \n",
    "                                 usecols= [0, 1], \n",
    "                                 skiprows = 0, \n",
    "                                 header = None\n",
    "                                 )\n",
    "\n",
    "# Data Cleaning\n",
    "obama_test_data = test_data_clean(obama_test_data)\n",
    "romney_test_data = test_data_clean(romney_test_data)\n",
    "\n",
    "# Data Preprocessing\n",
    "obama_test_data['tweet_text']  = obama_test_data['tweet_text'].apply(preprocess_text)\n",
    "romney_test_data['tweet_text'] = romney_test_data['tweet_text'].apply(preprocess_text)"
   ]
  },
  {
   "cell_type": "markdown",
   "metadata": {},
   "source": [
    "## Test Train Split"
   ]
  },
  {
   "cell_type": "code",
   "execution_count": 108,
   "metadata": {},
   "outputs": [
    {
     "name": "stdout",
     "output_type": "stream",
     "text": [
      "Size of Obama dataset is  :  (5624, 2)\n",
      "Size of Romeny dataset is :  (5648, 2)\n",
      "Size of Obama test dataset is  :  (1951, 2)\n",
      "Size of Romeny test dataset is :  (1900, 2)\n"
     ]
    }
   ],
   "source": [
    "print(\"Size of Obama dataset is  : \", obama_data.shape)\n",
    "print(\"Size of Romeny dataset is : \", romney_data.shape)\n",
    "print(\"Size of Obama test dataset is  : \", obama_test_data.shape)\n",
    "print(\"Size of Romeny test dataset is : \", romney_test_data.shape)"
   ]
  },
  {
   "attachments": {},
   "cell_type": "markdown",
   "metadata": {},
   "source": [
    "#### Data Split to Train"
   ]
  },
  {
   "cell_type": "code",
   "execution_count": null,
   "metadata": {},
   "outputs": [],
   "source": [
    "# Obama train_test_split\n",
    "X_obama = obama_data['tweet_text']\n",
    "y_obama = obama_data['class']\n",
    "X_train_obama, X_test_obama, y_train_obama, y_test_obama = train_test_split(X_obama, \n",
    "                                                                            y_obama,\n",
    "                                                                            test_size = 0.10,\n",
    "                                                                            random_state = RANDOM_STATE,\n",
    "                                                                            shuffle = True,\n",
    "                                                                            stratify = y_obama)\n",
    "\n",
    "X_train_obama, X_cv_obama, y_train_obama, y_cv_obama = train_test_split(X_train_obama,\n",
    "                                                                        y_train_obama,\n",
    "                                                                        test_size = 0.10,\n",
    "                                                                        random_state = RANDOM_STATE,\n",
    "                                                                        shuffle = True,\n",
    "                                                                        stratify = y_train_obama)\n",
    "\n",
    "print('Shapes of train, cross validate, and test data of Obama :')\n",
    "print('X_train shape : ', X_train_obama.shape,',  y_train shape : ', y_train_obama.shape)\n",
    "print('X_cv shape    : ', X_cv_obama.shape,   ',  y_cv shape    : ', y_cv_obama.shape)\n",
    "print('X_test shape  : ', X_test_obama.shape, ',  y_test shape  : ', y_test_obama.shape)\n",
    "\n",
    "# Romney train_test_split\n",
    "X_romney = romney_data['tweet_text']\n",
    "y_romney = romney_data['class']\n",
    "X_train_romney, X_test_romney, y_train_romney, y_test_romney = train_test_split(X_romney, \n",
    "                                                                                y_romney,\n",
    "                                                                                test_size = 0.10,\n",
    "                                                                                random_state = RANDOM_STATE,\n",
    "                                                                                shuffle = True,\n",
    "                                                                                stratify = y_romney)\n",
    "\n",
    "X_train_romney, X_cv_romney, y_train_romney, y_cv_romney = train_test_split(X_train_romney,\n",
    "                                                                            y_train_romney,\n",
    "                                                                            test_size = 0.10,\n",
    "                                                                            random_state = RANDOM_STATE,\n",
    "                                                                            shuffle = True,\n",
    "                                                                            stratify = y_train_romney)\n",
    "\n",
    "print('\\nShapes of train, cross validate, and test data of Romney :')\n",
    "print('X_train shape : ', X_train_romney.shape,',  y_train shape : ', y_train_romney.shape)\n",
    "print('X_cv shape    : ', X_cv_romney.shape,   ',  y_cv shape    : ', y_cv_romney.shape)\n",
    "print('X_test shape  : ', X_test_romney.shape, ',  y_test shape  : ', y_test_romney.shape)"
   ]
  },
  {
   "attachments": {},
   "cell_type": "markdown",
   "metadata": {},
   "source": [
    "#### Data Split for Test Tweets"
   ]
  },
  {
   "cell_type": "code",
   "execution_count": 109,
   "metadata": {},
   "outputs": [],
   "source": [
    "# Obama train_test_split\n",
    "X_obama = obama_data['tweet_text']\n",
    "y_obama = obama_data['class']\n",
    "X_train_obama, X_test_obama, y_train_obama = X_obama, obama_test_data['tweet_text'], y_obama \n",
    "\n",
    "\n",
    "# Romney train_test_split\n",
    "X_romney = romney_data['tweet_text']\n",
    "y_romney = romney_data['class']\n",
    "X_train_romney, X_test_romney, y_train_romney = X_romney, romney_test_data['tweet_text'], y_romney\n"
   ]
  },
  {
   "cell_type": "markdown",
   "metadata": {},
   "source": [
    "## Feature Engineering"
   ]
  },
  {
   "cell_type": "markdown",
   "metadata": {},
   "source": [
    "### Label Encoding"
   ]
  },
  {
   "cell_type": "code",
   "execution_count": 110,
   "metadata": {},
   "outputs": [],
   "source": [
    "# LABEL ENCODING\n",
    "label_encoder = LabelEncoder()\n",
    "y_train_enc_obama = label_encoder.fit_transform(y_train_obama)\n",
    "# y_cv_enc_obama    = label_encoder.fit_transform(y_cv_obama)\n",
    "# y_test_enc_obama  = label_encoder.fit_transform(y_test_obama)\n",
    "\n",
    "y_train_enc_romney = label_encoder.fit_transform(y_train_romney)\n",
    "# y_cv_enc_romney    = label_encoder.fit_transform(y_cv_romney)\n",
    "# y_test_enc_romney  = label_encoder.fit_transform(y_test_romney)"
   ]
  },
  {
   "cell_type": "markdown",
   "metadata": {},
   "source": [
    "### Sentiment Intensity Analyser for text"
   ]
  },
  {
   "cell_type": "code",
   "execution_count": 111,
   "metadata": {},
   "outputs": [],
   "source": [
    "sid = SentimentIntensityAnalyzer()\n",
    "X_train_sid_obama = [list(sid.polarity_scores(x).values()) for x in X_train_obama]\n",
    "# X_cv_sid_obama    = [list(sid.polarity_scores(x).values()) for x in X_cv_obama]\n",
    "X_test_sid_obama  = [list(sid.polarity_scores(x).values()) for x in X_test_obama]\n",
    "\n",
    "X_train_sid_romney = [list(sid.polarity_scores(x).values()) for x in X_train_romney]\n",
    "# X_cv_sid_romney    = [list(sid.polarity_scores(x).values()) for x in X_cv_romney]\n",
    "X_test_sid_romney  = [list(sid.polarity_scores(x).values()) for x in X_test_romney]"
   ]
  },
  {
   "cell_type": "markdown",
   "metadata": {},
   "source": [
    "### TF-IDF"
   ]
  },
  {
   "cell_type": "code",
   "execution_count": 112,
   "metadata": {},
   "outputs": [
    {
     "data": {
      "text/plain": [
       "'kirkpatrick wear baseball cap embroider barack obama signature hangdog look jason segel courier journal'"
      ]
     },
     "execution_count": 112,
     "metadata": {},
     "output_type": "execute_result"
    }
   ],
   "source": [
    "X_train_obama.iloc[0]"
   ]
  },
  {
   "cell_type": "code",
   "execution_count": 113,
   "metadata": {},
   "outputs": [
    {
     "name": "stdout",
     "output_type": "stream",
     "text": [
      "Shape of TF-IDF train, test feature matrices of Obama  :  (5624, 3061)  (1951, 3061)\n",
      "Shape of TF-IDF train, test feature matrices of Romney :  (5648, 2977)  (1900, 2977)\n"
     ]
    }
   ],
   "source": [
    "# Create TF-IDF feature matrix for the processed tweet_text\n",
    "\n",
    "tfidf_vectorizer_obama = TfidfVectorizer(min_df = 2)\n",
    "X_train_tfidf_obama = tfidf_vectorizer_obama.fit_transform(X_train_obama)\n",
    "X_test_tfidf_obama  = tfidf_vectorizer_obama.transform(X_test_obama)\n",
    "print(\"Shape of TF-IDF train, test feature matrices of Obama  : \", X_train_tfidf_obama.shape, \"\", X_test_tfidf_obama.shape)\n",
    "# X_cv_tfidf_obama   = tfidf_vectorizer_obama.transform(X_cv_obama)\n",
    "# print(\"Shape of TF-IDF train, cv, test feature matrices of Obama  : \", X_train_tfidf_obama.shape, \"\", \n",
    "#                                                                        X_cv_tfidf_obama.shape, \"\", \n",
    "#                                                                        X_test_tfidf_obama.shape)\n",
    "\n",
    "tfidf_vectorizer_romney = TfidfVectorizer(min_df = 2)\n",
    "X_train_tfidf_romney = tfidf_vectorizer_romney.fit_transform(X_train_romney)\n",
    "X_test_tfidf_romney  = tfidf_vectorizer_romney.transform(X_test_romney)\n",
    "print(\"Shape of TF-IDF train, test feature matrices of Romney : \", X_train_tfidf_romney.shape, \"\", X_test_tfidf_romney.shape)\n",
    "# X_cv_tfidf_romney    = tfidf_vectorizer_romney.transform(X_cv_romney)\n",
    "# # print(\"Shape of TF-IDF train, cv, test feature matrices of Romney : \", X_train_tfidf_romney.shape, \"\", \n",
    "#                                                                          X_cv_tfidf_romney.shape, \"\", \n",
    "#                                                                          X_test_tfidf_romney.shape)"
   ]
  },
  {
   "cell_type": "markdown",
   "metadata": {},
   "source": [
    "### Word2Vec"
   ]
  },
  {
   "cell_type": "code",
   "execution_count": 66,
   "metadata": {},
   "outputs": [],
   "source": [
    "# import gensim.downloader as api\n",
    "# print(list(gensim.downloader.info()['models'].keys()))"
   ]
  },
  {
   "cell_type": "code",
   "execution_count": 114,
   "metadata": {},
   "outputs": [],
   "source": [
    "# Get word embeddings from pre-trained model 'glove-twitter-200.kv'\n",
    "if not os.path.exists(DATASET_DIR + 'glove-twitter-200.kv'):\n",
    "    w2v_model = api.load('glove-twitter-200')\n",
    "    w2v_model.save(DATASET_DIR + 'glove-twitter-200.kv')\n",
    "else:\n",
    "    w2v_model = KeyedVectors.load(DATASET_DIR + 'glove-twitter-200.kv')\n",
    "\n",
    "# Get word embeddings from pre-trained model 'word2vec-google-news-300.kv'\n",
    "if not os.path.exists(DATASET_DIR + 'word2vec-google-news-300.kv'):\n",
    "    w2v_model300 = api.load('word2vec-google-news-300')\n",
    "    w2v_model300.save(DATASET_DIR + 'word2vec-google-news-300.kv')\n",
    "else:\n",
    "    w2v_model300 = KeyedVectors.load(DATASET_DIR + 'word2vec-google-news-300.kv')"
   ]
  },
  {
   "cell_type": "code",
   "execution_count": 115,
   "metadata": {},
   "outputs": [],
   "source": [
    "def create_word2vec_features(text):\n",
    "    vector_size = w2v_model.vector_size\n",
    "    vec = np.zeros(vector_size)\n",
    "    word_count = 0\n",
    "    for word in text.split():\n",
    "        if word in w2v_model:\n",
    "            vec += w2v_model[word]\n",
    "            word_count += 1\n",
    "    if word_count != 0:\n",
    "        vec /= word_count\n",
    "    return vec\n",
    "\n",
    "def create_word2vec300_features(text):\n",
    "    vector_size = w2v_model300.vector_size\n",
    "    vec = np.zeros(vector_size)\n",
    "    word_count = 0\n",
    "    for word in text.split():\n",
    "        if word in w2v_model300:\n",
    "            vec += w2v_model300[word]\n",
    "            word_count += 1\n",
    "    if word_count != 0:\n",
    "        vec /= word_count\n",
    "    return vec"
   ]
  },
  {
   "cell_type": "code",
   "execution_count": 116,
   "metadata": {},
   "outputs": [],
   "source": [
    "X_train_w2v_obama = np.hstack([X_train_obama.apply(create_word2vec_features).to_list(), X_train_sid_obama])\n",
    "X_test_w2v_obama  = np.hstack([X_test_obama.apply(create_word2vec_features).to_list(), X_test_sid_obama])\n",
    "# X_cv_w2v_obama    = np.hstack([X_cv_obama.apply(create_word2vec_features).to_list(), X_cv_sid_obama])\n",
    "\n",
    "X_train_w2v_romney = np.hstack([X_train_romney.apply(create_word2vec_features).to_list(), X_train_sid_romney])\n",
    "X_test_w2v_romney  = np.hstack([X_test_romney.apply(create_word2vec_features).to_list(), X_test_sid_romney])\n",
    "# X_cv_w2v_romney    = np.hstack([X_cv_romney.apply(create_word2vec_features).to_list(), X_cv_sid_romney])"
   ]
  },
  {
   "cell_type": "code",
   "execution_count": 117,
   "metadata": {},
   "outputs": [],
   "source": [
    "X_train_w2v300_obama = np.hstack([X_train_obama.apply(create_word2vec300_features).to_list(), X_train_sid_obama])\n",
    "X_test_w2v300_obama  = np.hstack([X_test_obama.apply(create_word2vec300_features).to_list(), X_test_sid_obama])\n",
    "# X_cv_w2v300_obama    = np.hstack([X_cv_obama.apply(create_word2vec300_features).to_list(), X_cv_sid_obama])\n",
    "\n",
    "X_train_w2v300_romney = np.hstack([X_train_romney.apply(create_word2vec300_features).to_list(), X_train_sid_romney])\n",
    "X_test_w2v300_romney  = np.hstack([X_test_romney.apply(create_word2vec300_features).to_list(), X_test_sid_romney])\n",
    "# X_cv_w2v300_romney    = np.hstack([X_cv_romney.apply(create_word2vec300_features).to_list(), X_cv_sid_romney])\n",
    "# len(X_train_w2v300_obama[0]), len(np.hstack([X_train_obama.apply(create_word2vec300_features)[0], X_train_sid_obama[0]]))"
   ]
  },
  {
   "cell_type": "markdown",
   "metadata": {},
   "source": [
    "### TF-IDF with Word2Vec"
   ]
  },
  {
   "cell_type": "code",
   "execution_count": 118,
   "metadata": {},
   "outputs": [],
   "source": [
    "# Obama tf-idf with word2vec\n",
    "idf_dict_obama = dict(zip(tfidf_vectorizer_obama.get_feature_names_out(), list(tfidf_vectorizer_obama.idf_)))\n",
    "tfidf_words_obama = set(tfidf_vectorizer_obama.get_feature_names_out())\n",
    "\n",
    "def create_tfidf_word2vec300_features_obama(text):\n",
    "    vector_size = w2v_model300.vector_size\n",
    "    vec = np.zeros(vector_size)\n",
    "    tfidf_wt = 0\n",
    "    for word in text.split():\n",
    "        if (word in w2v_model300) and (word in tfidf_words_obama):\n",
    "            tfidf = idf_dict_obama[word]*((text.count(word))/(len(text.split())))\n",
    "            vec += (w2v_model300[word] * tfidf)\n",
    "            tfidf_wt += tfidf\n",
    "    if tfidf_wt != 0:\n",
    "        vec /= tfidf_wt\n",
    "    return vec\n",
    "\n",
    "\n",
    "# Romney tf-idf with word2vec\n",
    "idf_dict_romney = dict(zip(tfidf_vectorizer_romney.get_feature_names_out(), list(tfidf_vectorizer_romney.idf_)))\n",
    "tfidf_words_romney = set(tfidf_vectorizer_romney.get_feature_names_out())\n",
    "\n",
    "def create_tfidf_word2vec300_features_romney(text):\n",
    "    vector_size = w2v_model300.vector_size\n",
    "    vec = np.zeros(vector_size)\n",
    "    tfidf_wt = 0\n",
    "    for word in text.split():\n",
    "        if (word in w2v_model300) and (word in tfidf_words_romney):\n",
    "            tfidf = idf_dict_romney[word]*((text.count(word))/(len(text.split())))\n",
    "            vec += (w2v_model300[word] * tfidf)\n",
    "            tfidf_wt += tfidf\n",
    "    if tfidf_wt != 0:\n",
    "        vec /= tfidf_wt\n",
    "    return vec"
   ]
  },
  {
   "cell_type": "code",
   "execution_count": 119,
   "metadata": {},
   "outputs": [],
   "source": [
    "X_train_tfidf_w2v300_obama = np.hstack([X_train_obama.apply(create_tfidf_word2vec300_features_obama).to_list(), X_train_sid_obama])\n",
    "X_test_tfidf_w2v300_obama  = np.hstack([X_test_obama.apply(create_tfidf_word2vec300_features_obama).to_list(), X_test_sid_obama])\n",
    "# X_cv_tfidf_w2v300_obama    = np.hstack([X_cv_obama.apply(create_tfidf_word2vec300_features_obama).to_list(), X_cv_sid_obama])\n",
    "\n",
    "X_train_tfidf_w2v300_romney = np.hstack([X_train_romney.apply(create_tfidf_word2vec300_features_romney).to_list(), X_train_sid_romney])\n",
    "X_test_tfidf_w2v300_romney  = np.hstack([X_test_romney.apply(create_tfidf_word2vec300_features_romney).to_list(), X_test_sid_romney])\n",
    "# X_cv_tfidf_w2v300_romney    = np.hstack([X_cv_romney.apply(create_tfidf_word2vec300_features_romney).to_list(), X_cv_sid_romney])"
   ]
  },
  {
   "cell_type": "markdown",
   "metadata": {},
   "source": [
    "## Model Testing"
   ]
  },
  {
   "cell_type": "markdown",
   "metadata": {},
   "source": [
    "### XGBClassifier"
   ]
  },
  {
   "cell_type": "code",
   "execution_count": 24,
   "metadata": {},
   "outputs": [],
   "source": [
    "#### OBAMA DATA ####\n",
    "xgb_classifier_tfidf = XGBClassifier()\n",
    "xgb_classifier_tfidf.fit(X_train_tfidf_obama, y_train_enc_obama)\n",
    "# Prediction\n",
    "xgb_tfidf_cv_pred_obama   = xgb_classifier_tfidf.predict(X_cv_tfidf_obama)\n",
    "xgb_tfidf_test_pred_obama = xgb_classifier_tfidf.predict(X_test_tfidf_obama)\n",
    "# Evaluation Metrics\n",
    "print(\"Obama XGB TFIDF cv, test accuracy : \", accuracy_score(y_cv_enc_obama, xgb_tfidf_cv_pred_obama), \n",
    "                                              accuracy_score(y_test_enc_obama, xgb_tfidf_test_pred_obama))\n",
    "print(classification_report(y_test_enc_obama, xgb_tfidf_test_pred_obama))\n",
    "\n",
    "\n",
    "xgb_classifier_w2v = XGBClassifier()\n",
    "xgb_classifier_w2v.fit(X_train_w2v_obama, y_train_enc_obama)\n",
    "# Prediction\n",
    "xgb_w2v_cv_pred_obama   = xgb_classifier_w2v.predict(X_cv_w2v_obama)\n",
    "xgb_w2v_test_pred_obama = xgb_classifier_w2v.predict(X_test_w2v_obama)\n",
    "# Evaluation Metrics\n",
    "print(\"Obama XGB W2V200 cv, test accuracy : \", accuracy_score(y_cv_enc_obama, xgb_w2v_cv_pred_obama), \n",
    "                                               accuracy_score(y_test_enc_obama, xgb_w2v_test_pred_obama))\n",
    "print(classification_report(y_test_enc_obama, xgb_w2v_test_pred_obama))\n",
    "\n",
    "\n",
    "xgb_classifier_w2v300 = XGBClassifier()\n",
    "xgb_classifier_w2v300.fit(X_train_w2v300_obama, y_train_enc_obama)\n",
    "# Prediction\n",
    "xgb_w2v300_cv_pred_obama   = xgb_classifier_w2v300.predict(X_cv_w2v300_obama)\n",
    "xgb_w2v300_test_pred_obama = xgb_classifier_w2v300.predict(X_test_w2v300_obama)\n",
    "# Evaluation Metrics\n",
    "print(\"Obama XGB W2V300 cv, test accuracy : \", accuracy_score(y_cv_enc_obama, xgb_w2v300_cv_pred_obama), \n",
    "                                               accuracy_score(y_test_enc_obama, xgb_w2v300_test_pred_obama))\n",
    "print(classification_report(y_test_enc_obama, xgb_w2v300_test_pred_obama))\n",
    "\n",
    "\n",
    "xgb_classifier_tfidf_w2v300 = XGBClassifier()\n",
    "xgb_classifier_tfidf_w2v300.fit(X_train_tfidf_w2v300_obama, y_train_enc_obama)\n",
    "# Prediction\n",
    "xgb_tfidf_w2v300_cv_pred_obama   = xgb_classifier_tfidf_w2v300.predict(X_cv_tfidf_w2v300_obama)\n",
    "xgb_tfidf_w2v300_test_pred_obama = xgb_classifier_tfidf_w2v300.predict(X_test_tfidf_w2v300_obama)\n",
    "# Evaluation Metrics\n",
    "print(\"Obama XGB TFIDF-W2V300 cv, test accuracy : \", accuracy_score(y_cv_enc_obama, xgb_tfidf_w2v300_cv_pred_obama), \n",
    "                                                     accuracy_score(y_test_enc_obama, xgb_tfidf_w2v300_test_pred_obama))\n",
    "print(classification_report(y_test_enc_obama, xgb_tfidf_w2v300_test_pred_obama))\n",
    "\n",
    "\n",
    "\n",
    "\n",
    "#### ROMNEY DATA ####\n",
    "xgb_classifier_tfidf_r = XGBClassifier()\n",
    "xgb_classifier_tfidf_r.fit(X_train_tfidf_romney, y_train_enc_romney)\n",
    "# Prediction\n",
    "xgb_tfidf_cv_pred_romney   = xgb_classifier_tfidf_r.predict(X_cv_tfidf_romney)\n",
    "xgb_tfidf_test_pred_romney = xgb_classifier_tfidf_r.predict(X_test_tfidf_romney)\n",
    "# Evaluation Metrics\n",
    "print(\"Romney XGB TFIDF cv, test accuracy : \", accuracy_score(y_cv_enc_romney, xgb_tfidf_cv_pred_romney), \n",
    "                                               accuracy_score(y_test_enc_romney, xgb_tfidf_test_pred_romney))\n",
    "print(classification_report(y_test_enc_romney, xgb_tfidf_test_pred_romney))\n",
    "\n",
    "\n",
    "xgb_classifier_w2v_r = XGBClassifier()\n",
    "xgb_classifier_w2v_r.fit(X_train_w2v_romney, y_train_enc_romney)\n",
    "# Prediction\n",
    "xgb_w2v_cv_pred_romney   = xgb_classifier_w2v_r.predict(X_cv_w2v_romney)\n",
    "xgb_w2v_test_pred_romney = xgb_classifier_w2v_r.predict(X_test_w2v_romney)\n",
    "# Evaluation Metrics\n",
    "print(\"Romney XGB W2V200 cv, test accuracy : \", accuracy_score(y_cv_enc_romney, xgb_w2v_cv_pred_romney), \n",
    "                                                accuracy_score(y_test_enc_romney, xgb_w2v_test_pred_romney))\n",
    "print(classification_report(y_test_enc_romney, xgb_w2v_test_pred_romney))\n",
    "\n",
    "\n",
    "xgb_classifier_w2v300_r = XGBClassifier()\n",
    "xgb_classifier_w2v300_r.fit(X_train_w2v300_romney, y_train_enc_romney)\n",
    "# Prediction\n",
    "xgb_w2v300_cv_pred_romney   = xgb_classifier_w2v300_r.predict(X_cv_w2v300_romney)\n",
    "xgb_w2v300_test_pred_romney = xgb_classifier_w2v300_r.predict(X_test_w2v300_romney)\n",
    "# Evaluation Metrics\n",
    "print(\"Romney XGB W2V300 cv, test accuracy : \", accuracy_score(y_cv_enc_romney, xgb_w2v300_cv_pred_romney),  \n",
    "                                                accuracy_score(y_test_enc_romney, xgb_w2v300_test_pred_romney))\n",
    "print(classification_report(y_test_enc_romney, xgb_w2v300_test_pred_romney))\n",
    "\n",
    "\n",
    "xgb_classifier_tfidf_w2v300_r = XGBClassifier()\n",
    "xgb_classifier_tfidf_w2v300_r.fit(X_train_tfidf_w2v300_romney, y_train_enc_romney)\n",
    "# Prediction\n",
    "xgb_tfidf_w2v300_cv_pred_romney   = xgb_classifier_tfidf_w2v300_r.predict(X_cv_tfidf_w2v300_romney)\n",
    "xgb_tfidf_w2v300_test_pred_romney = xgb_classifier_tfidf_w2v300_r.predict(X_test_tfidf_w2v300_romney)\n",
    "# Evaluation Metrics\n",
    "print(\"Romney XGB TFIDF-W2V300 cv, test accuracy : \", accuracy_score(y_cv_enc_romney, xgb_tfidf_w2v300_cv_pred_romney), \n",
    "                                                      accuracy_score(y_test_enc_romney, xgb_tfidf_w2v300_test_pred_romney))\n",
    "print(classification_report(y_test_enc_romney, xgb_tfidf_w2v300_test_pred_romney))"
   ]
  },
  {
   "cell_type": "markdown",
   "metadata": {},
   "source": [
    "### LogisticRegression Classifier"
   ]
  },
  {
   "cell_type": "code",
   "execution_count": 25,
   "metadata": {},
   "outputs": [],
   "source": [
    "#### OBAMA DATA ####\n",
    "lr_classifier_tfidf = LogisticRegression(max_iter = 400)\n",
    "lr_classifier_tfidf.fit(X_train_tfidf_obama, y_train_enc_obama)\n",
    "# Prediction\n",
    "lr_tfidf_cv_pred_obama   = lr_classifier_tfidf.predict(X_cv_tfidf_obama)\n",
    "lr_tfidf_test_pred_obama = lr_classifier_tfidf.predict(X_test_tfidf_obama)\n",
    "# Evaluation Metrics\n",
    "print(\"Obama LogReg TFIDF cv, test accuracy : \", accuracy_score(y_cv_enc_obama, lr_tfidf_cv_pred_obama), \n",
    "                                                 accuracy_score(y_test_enc_obama, lr_tfidf_test_pred_obama))\n",
    "print(classification_report(y_test_enc_obama, lr_tfidf_test_pred_obama))\n",
    "\n",
    "\n",
    "lr_classifier_w2v = LogisticRegression(max_iter = 400)\n",
    "lr_classifier_w2v.fit(X_train_w2v_obama, y_train_enc_obama)\n",
    "# Prediction\n",
    "lr_w2v_cv_pred_obama   = lr_classifier_w2v.predict(X_cv_w2v_obama)\n",
    "lr_w2v_test_pred_obama = lr_classifier_w2v.predict(X_test_w2v_obama)\n",
    "# Evaluation Metrics\n",
    "print(\"Obama LogReg W2V200 cv, test accuracy : \", accuracy_score(y_cv_enc_obama, lr_w2v_cv_pred_obama), \n",
    "                                                  accuracy_score(y_test_enc_obama, lr_w2v_test_pred_obama))\n",
    "print(classification_report(y_test_enc_obama, lr_w2v_test_pred_obama))\n",
    "\n",
    "\n",
    "lr_classifier_w2v300 = LogisticRegression(max_iter = 400)\n",
    "lr_classifier_w2v300.fit(X_train_w2v300_obama, y_train_enc_obama)\n",
    "# Prediction\n",
    "lr_w2v300_cv_pred_obama   = lr_classifier_w2v300.predict(X_cv_w2v300_obama)\n",
    "lr_w2v300_test_pred_obama = lr_classifier_w2v300.predict(X_test_w2v300_obama)\n",
    "# Evaluation Metrics\n",
    "print(\"Obama LogReg W2V300 cv, test accuracy : \", accuracy_score(y_cv_enc_obama, lr_w2v300_cv_pred_obama), \n",
    "                                                  accuracy_score(y_test_enc_obama, lr_w2v300_test_pred_obama))\n",
    "print(classification_report(y_test_enc_obama, lr_w2v300_test_pred_obama))\n",
    "\n",
    "\n",
    "lr_classifier_tfidf_w2v300 = LogisticRegression(max_iter = 400)\n",
    "lr_classifier_tfidf_w2v300.fit(X_train_tfidf_w2v300_obama, y_train_enc_obama)\n",
    "# Prediction\n",
    "lr_tfidf_w2v300_cv_pred_obama   = lr_classifier_tfidf_w2v300.predict(X_cv_tfidf_w2v300_obama)\n",
    "lr_tfidf_w2v300_test_pred_obama = lr_classifier_tfidf_w2v300.predict(X_test_tfidf_w2v300_obama)\n",
    "# Evaluation Metrics\n",
    "print(\"Obama LogReg TFIDF-W2V300 cv, test accuracy : \", accuracy_score(y_cv_enc_obama, lr_tfidf_w2v300_cv_pred_obama), \n",
    "                                                        accuracy_score(y_test_enc_obama, lr_tfidf_w2v300_test_pred_obama))\n",
    "print(classification_report(y_test_enc_obama, lr_tfidf_w2v300_test_pred_obama))\n",
    "\n",
    "\n",
    "\n",
    "\n",
    "#### ROMNEY DATA ####\n",
    "lr_classifier_tfidf_r = LogisticRegression(max_iter = 400)\n",
    "lr_classifier_tfidf_r.fit(X_train_tfidf_romney, y_train_enc_romney)\n",
    "# Prediction\n",
    "lr_tfidf_cv_pred_romney   = lr_classifier_tfidf_r.predict(X_cv_tfidf_romney)\n",
    "lr_tfidf_test_pred_romney = lr_classifier_tfidf_r.predict(X_test_tfidf_romney)\n",
    "# Evaluation Metrics\n",
    "print(\"Romney LogReg TFIDF cv, test accuracy : \", accuracy_score(y_cv_enc_romney, lr_tfidf_cv_pred_romney), \n",
    "                                                  accuracy_score(y_test_enc_romney, lr_tfidf_test_pred_romney))\n",
    "print(classification_report(y_test_enc_romney, lr_tfidf_test_pred_romney))\n",
    "\n",
    "\n",
    "lr_classifier_w2v_r = LogisticRegression(max_iter = 400)\n",
    "lr_classifier_w2v_r.fit(X_train_w2v_romney, y_train_enc_romney)\n",
    "# Prediction\n",
    "lr_w2v_cv_pred_romney   = lr_classifier_w2v_r.predict(X_cv_w2v_romney)\n",
    "lr_w2v_test_pred_romney = lr_classifier_w2v_r.predict(X_test_w2v_romney)\n",
    "# Evaluation Metrics\n",
    "print(\"Romney LogReg W2V200 cv, test accuracy : \", accuracy_score(y_cv_enc_romney, lr_w2v_cv_pred_romney), \n",
    "                                                   accuracy_score(y_test_enc_romney, lr_w2v_test_pred_romney))\n",
    "print(classification_report(y_test_enc_romney, lr_w2v_test_pred_romney))\n",
    "\n",
    "\n",
    "lr_classifier_w2v300_r = LogisticRegression(max_iter = 400)\n",
    "lr_classifier_w2v300_r.fit(X_train_w2v300_romney, y_train_enc_romney)\n",
    "# Prediction\n",
    "lr_w2v300_cv_pred_romney   = lr_classifier_w2v300_r.predict(X_cv_w2v300_romney)\n",
    "lr_w2v300_test_pred_romney = lr_classifier_w2v300_r.predict(X_test_w2v300_romney)\n",
    "# Evaluation Metrics\n",
    "print(\"Romney LogReg W2V300 cv, test accuracy : \", accuracy_score(y_cv_enc_romney, lr_w2v300_cv_pred_romney), \n",
    "                                                   accuracy_score(y_test_enc_romney, lr_w2v300_test_pred_romney))\n",
    "print(classification_report(y_test_enc_romney, lr_w2v300_test_pred_romney))\n",
    "\n",
    "\n",
    "lr_classifier_tfidf_w2v300_r = LogisticRegression(max_iter = 400)\n",
    "lr_classifier_tfidf_w2v300_r.fit(X_train_tfidf_w2v300_romney, y_train_enc_romney)\n",
    "# Prediction\n",
    "lr_tfidf_w2v300_cv_pred_romney   = lr_classifier_tfidf_w2v300_r.predict(X_cv_tfidf_w2v300_romney)\n",
    "lr_tfidf_w2v300_test_pred_romney = lr_classifier_tfidf_w2v300_r.predict(X_test_tfidf_w2v300_romney)\n",
    "# Evaluation Metrics\n",
    "print(\"Romney LogReg TFIDF-W2V300 cv, test accuracy : \", accuracy_score(y_cv_enc_romney, lr_tfidf_w2v300_cv_pred_romney), \n",
    "                                                         accuracy_score(y_test_enc_romney, lr_tfidf_w2v300_test_pred_romney))\n",
    "print(classification_report(y_test_enc_romney, lr_tfidf_w2v300_test_pred_romney))"
   ]
  },
  {
   "cell_type": "markdown",
   "metadata": {},
   "source": [
    "### RandomForest Classifier"
   ]
  },
  {
   "cell_type": "code",
   "execution_count": 26,
   "metadata": {},
   "outputs": [],
   "source": [
    "#### OBAMA DATA ####\n",
    "rf_classifier_tfidf = RandomForestClassifier()\n",
    "rf_classifier_tfidf.fit(X_train_tfidf_obama, y_train_enc_obama)\n",
    "# Prediction\n",
    "rf_tfidf_cv_pred_obama   = rf_classifier_tfidf.predict(X_cv_tfidf_obama)\n",
    "rf_tfidf_test_pred_obama = rf_classifier_tfidf.predict(X_test_tfidf_obama)\n",
    "# Evaluation Metrics\n",
    "print(\"Obama RandomForest TFIDF cv, test accuracy : \", accuracy_score(y_cv_enc_obama, rf_tfidf_cv_pred_obama), \n",
    "                                                       accuracy_score(y_test_enc_obama, rf_tfidf_test_pred_obama))\n",
    "print(classification_report(y_test_enc_obama, rf_tfidf_test_pred_obama))\n",
    "\n",
    "\n",
    "rf_classifier_w2v = RandomForestClassifier()\n",
    "rf_classifier_w2v.fit(X_train_w2v_obama, y_train_enc_obama)\n",
    "# Prediction\n",
    "rf_w2v_cv_pred_obama   = rf_classifier_w2v.predict(X_cv_w2v_obama)\n",
    "rf_w2v_test_pred_obama = rf_classifier_w2v.predict(X_test_w2v_obama)\n",
    "# Evaluation Metrics\n",
    "print(\"Obama RandomForest W2V200 cv, test accuracy : \", accuracy_score(y_cv_enc_obama, rf_w2v_cv_pred_obama), \n",
    "                                                        accuracy_score(y_test_enc_obama, rf_w2v_test_pred_obama))\n",
    "print(classification_report(y_test_enc_obama, rf_w2v_test_pred_obama))\n",
    "\n",
    "\n",
    "rf_classifier_w2v300 = RandomForestClassifier()\n",
    "rf_classifier_w2v300.fit(X_train_w2v300_obama, y_train_enc_obama)\n",
    "# Prediction\n",
    "rf_w2v300_cv_pred_obama   = rf_classifier_w2v300.predict(X_cv_w2v300_obama)\n",
    "rf_w2v300_test_pred_obama = rf_classifier_w2v300.predict(X_test_w2v300_obama)\n",
    "# Evaluation Metrics\n",
    "print(\"Obama RandomForest W2V300 cv, test accuracy : \", accuracy_score(y_cv_enc_obama, rf_w2v300_cv_pred_obama), \n",
    "                                                        accuracy_score(y_test_enc_obama, rf_w2v300_test_pred_obama))\n",
    "print(classification_report(y_test_enc_obama, rf_w2v300_test_pred_obama))\n",
    "\n",
    "\n",
    "rf_classifier_tfidf_w2v300 = RandomForestClassifier()\n",
    "rf_classifier_tfidf_w2v300.fit(X_train_tfidf_w2v300_obama, y_train_enc_obama)\n",
    "# Prediction\n",
    "rf_tfidf_w2v300_cv_pred_obama   = rf_classifier_tfidf_w2v300.predict(X_cv_tfidf_w2v300_obama)\n",
    "rf_tfidf_w2v300_test_pred_obama = rf_classifier_tfidf_w2v300.predict(X_test_tfidf_w2v300_obama)\n",
    "# Evaluation Metrics\n",
    "print(\"Obama RandomForest TFIDF-W2V300 cv, test accuracy : \", accuracy_score(y_cv_enc_obama, rf_tfidf_w2v300_cv_pred_obama), \n",
    "                                                              accuracy_score(y_test_enc_obama, rf_tfidf_w2v300_test_pred_obama))\n",
    "print(classification_report(y_test_enc_obama, rf_tfidf_w2v300_test_pred_obama))\n",
    "\n",
    "\n",
    "\n",
    "\n",
    "#### ROMNEY DATA ####\n",
    "rf_classifier_tfidf_r = RandomForestClassifier()\n",
    "rf_classifier_tfidf_r.fit(X_train_tfidf_romney, y_train_enc_romney)\n",
    "# Prediction\n",
    "rf_tfidf_cv_pred_romney   = rf_classifier_tfidf_r.predict(X_cv_tfidf_romney)\n",
    "rf_tfidf_test_pred_romney = rf_classifier_tfidf_r.predict(X_test_tfidf_romney)\n",
    "# Evaluation Metrics\n",
    "print(\"Romney RandomForest TFIDF cv, test accuracy : \", accuracy_score(y_cv_enc_romney, rf_tfidf_cv_pred_romney), \n",
    "                                                        accuracy_score(y_test_enc_romney, rf_tfidf_test_pred_romney))\n",
    "print(classification_report(y_test_enc_romney, rf_tfidf_test_pred_romney))\n",
    "\n",
    "\n",
    "rf_classifier_w2v_r = RandomForestClassifier()\n",
    "rf_classifier_w2v_r.fit(X_train_w2v_romney, y_train_enc_romney)\n",
    "# Prediction\n",
    "rf_w2v_cv_pred_romney   = rf_classifier_w2v_r.predict(X_cv_w2v_romney)\n",
    "rf_w2v_test_pred_romney = rf_classifier_w2v_r.predict(X_test_w2v_romney)\n",
    "# Evaluation Metrics\n",
    "print(\"Romney RandomForest W2V200 cv, test accuracy : \", accuracy_score(y_cv_enc_romney, rf_w2v_cv_pred_romney), \n",
    "                                                         accuracy_score(y_test_enc_romney, rf_w2v_test_pred_romney))\n",
    "print(classification_report(y_test_enc_romney, rf_w2v_test_pred_romney))\n",
    "\n",
    "\n",
    "rf_classifier_w2v300_r = RandomForestClassifier()\n",
    "rf_classifier_w2v300_r.fit(X_train_w2v300_romney, y_train_enc_romney)\n",
    "# Prediction\n",
    "rf_w2v300_cv_pred_romney   = rf_classifier_w2v300_r.predict(X_cv_w2v300_romney)\n",
    "rf_w2v300_test_pred_romney = rf_classifier_w2v300_r.predict(X_test_w2v300_romney)\n",
    "# Evaluation Metrics\n",
    "print(\"Romney RandomForest W2V300 cv, test accuracy : \", accuracy_score(y_cv_enc_romney, rf_w2v300_cv_pred_romney), \n",
    "                                                         accuracy_score(y_test_enc_romney, rf_w2v300_test_pred_romney))\n",
    "print(classification_report(y_test_enc_romney, rf_w2v300_test_pred_romney))\n",
    "\n",
    "\n",
    "rf_classifier_tfidf_w2v300_r = RandomForestClassifier()\n",
    "rf_classifier_tfidf_w2v300_r.fit(X_train_tfidf_w2v300_romney, y_train_enc_romney)\n",
    "# Prediction\n",
    "rf_tfidf_w2v300_cv_pred_romney   = rf_classifier_tfidf_w2v300_r.predict(X_cv_tfidf_w2v300_romney)\n",
    "rf_tfidf_w2v300_test_pred_romney = rf_classifier_tfidf_w2v300_r.predict(X_test_tfidf_w2v300_romney)\n",
    "# Evaluation Metrics\n",
    "print(\"Romney RandomForest TFIDF-W2V300 cv, test accuracy : \", accuracy_score(y_cv_enc_romney, rf_tfidf_w2v300_cv_pred_romney), \n",
    "                                                               accuracy_score(y_test_enc_romney, rf_tfidf_w2v300_test_pred_romney))\n",
    "print(classification_report(y_test_enc_romney, rf_tfidf_w2v300_test_pred_romney))"
   ]
  },
  {
   "cell_type": "markdown",
   "metadata": {},
   "source": [
    "### Multinomial NaiveBayes Classifier"
   ]
  },
  {
   "cell_type": "code",
   "execution_count": 146,
   "metadata": {},
   "outputs": [],
   "source": [
    "#### OBAMA DATA ####\n",
    "mnb_classifier_tfidf = MultinomialNB()\n",
    "mnb_classifier_tfidf.fit(X_train_tfidf_obama, y_train_enc_obama)\n",
    "# Prediction\n",
    "mnb_tfidf_cv_pred_obama   = mnb_classifier_tfidf.predict(X_cv_tfidf_obama)\n",
    "mnb_tfidf_test_pred_obama = mnb_classifier_tfidf.predict(X_test_tfidf_obama)\n",
    "# Evaluation Metrics\n",
    "print(\"Obama MultiomialNB TFIDF cv, test accuracy : \", accuracy_score(y_cv_enc_obama, mnb_tfidf_cv_pred_obama), \n",
    "                                                       accuracy_score(y_test_enc_obama, mnb_tfidf_test_pred_obama))\n",
    "print(classification_report(y_test_enc_obama, mnb_tfidf_test_pred_obama))\n",
    "\n",
    "# ValueError: Negative values in data passed to MultinomialNB (input X) -for Word2Vec\n",
    "\n",
    "#### ROMNEY DATA ####\n",
    "mnb_classifier_tfidf_r = MultinomialNB()\n",
    "mnb_classifier_tfidf_r.fit(X_train_tfidf_romney, y_train_enc_romney)\n",
    "# Prediction\n",
    "mnb_tfidf_cv_pred_romney   = mnb_classifier_tfidf_r.predict(X_cv_tfidf_romney)\n",
    "mnb_tfidf_test_pred_romney = mnb_classifier_tfidf_r.predict(X_test_tfidf_romney)\n",
    "# Evaluation Metrics\n",
    "print(\"Romney MultiomialNB TFIDF cv, test accuracy : \", accuracy_score(y_cv_enc_romney, mnb_tfidf_cv_pred_romney),\n",
    "                                                        accuracy_score(y_test_enc_romney, mnb_tfidf_test_pred_romney))\n",
    "print(classification_report(y_test_enc_romney, mnb_tfidf_test_pred_romney))"
   ]
  },
  {
   "cell_type": "markdown",
   "metadata": {},
   "source": [
    "## Voting Classifier"
   ]
  },
  {
   "cell_type": "code",
   "execution_count": 26,
   "metadata": {},
   "outputs": [
    {
     "data": {
      "text/html": [
       "<style>#sk-container-id-1 {color: black;background-color: white;}#sk-container-id-1 pre{padding: 0;}#sk-container-id-1 div.sk-toggleable {background-color: white;}#sk-container-id-1 label.sk-toggleable__label {cursor: pointer;display: block;width: 100%;margin-bottom: 0;padding: 0.3em;box-sizing: border-box;text-align: center;}#sk-container-id-1 label.sk-toggleable__label-arrow:before {content: \"▸\";float: left;margin-right: 0.25em;color: #696969;}#sk-container-id-1 label.sk-toggleable__label-arrow:hover:before {color: black;}#sk-container-id-1 div.sk-estimator:hover label.sk-toggleable__label-arrow:before {color: black;}#sk-container-id-1 div.sk-toggleable__content {max-height: 0;max-width: 0;overflow: hidden;text-align: left;background-color: #f0f8ff;}#sk-container-id-1 div.sk-toggleable__content pre {margin: 0.2em;color: black;border-radius: 0.25em;background-color: #f0f8ff;}#sk-container-id-1 input.sk-toggleable__control:checked~div.sk-toggleable__content {max-height: 200px;max-width: 100%;overflow: auto;}#sk-container-id-1 input.sk-toggleable__control:checked~label.sk-toggleable__label-arrow:before {content: \"▾\";}#sk-container-id-1 div.sk-estimator input.sk-toggleable__control:checked~label.sk-toggleable__label {background-color: #d4ebff;}#sk-container-id-1 div.sk-label input.sk-toggleable__control:checked~label.sk-toggleable__label {background-color: #d4ebff;}#sk-container-id-1 input.sk-hidden--visually {border: 0;clip: rect(1px 1px 1px 1px);clip: rect(1px, 1px, 1px, 1px);height: 1px;margin: -1px;overflow: hidden;padding: 0;position: absolute;width: 1px;}#sk-container-id-1 div.sk-estimator {font-family: monospace;background-color: #f0f8ff;border: 1px dotted black;border-radius: 0.25em;box-sizing: border-box;margin-bottom: 0.5em;}#sk-container-id-1 div.sk-estimator:hover {background-color: #d4ebff;}#sk-container-id-1 div.sk-parallel-item::after {content: \"\";width: 100%;border-bottom: 1px solid gray;flex-grow: 1;}#sk-container-id-1 div.sk-label:hover label.sk-toggleable__label {background-color: #d4ebff;}#sk-container-id-1 div.sk-serial::before {content: \"\";position: absolute;border-left: 1px solid gray;box-sizing: border-box;top: 0;bottom: 0;left: 50%;z-index: 0;}#sk-container-id-1 div.sk-serial {display: flex;flex-direction: column;align-items: center;background-color: white;padding-right: 0.2em;padding-left: 0.2em;position: relative;}#sk-container-id-1 div.sk-item {position: relative;z-index: 1;}#sk-container-id-1 div.sk-parallel {display: flex;align-items: stretch;justify-content: center;background-color: white;position: relative;}#sk-container-id-1 div.sk-item::before, #sk-container-id-1 div.sk-parallel-item::before {content: \"\";position: absolute;border-left: 1px solid gray;box-sizing: border-box;top: 0;bottom: 0;left: 50%;z-index: -1;}#sk-container-id-1 div.sk-parallel-item {display: flex;flex-direction: column;z-index: 1;position: relative;background-color: white;}#sk-container-id-1 div.sk-parallel-item:first-child::after {align-self: flex-end;width: 50%;}#sk-container-id-1 div.sk-parallel-item:last-child::after {align-self: flex-start;width: 50%;}#sk-container-id-1 div.sk-parallel-item:only-child::after {width: 0;}#sk-container-id-1 div.sk-dashed-wrapped {border: 1px dashed gray;margin: 0 0.4em 0.5em 0.4em;box-sizing: border-box;padding-bottom: 0.4em;background-color: white;}#sk-container-id-1 div.sk-label label {font-family: monospace;font-weight: bold;display: inline-block;line-height: 1.2em;}#sk-container-id-1 div.sk-label-container {text-align: center;}#sk-container-id-1 div.sk-container {/* jupyter's `normalize.less` sets `[hidden] { display: none; }` but bootstrap.min.css set `[hidden] { display: none !important; }` so we also need the `!important` here to be able to override the default hidden behavior on the sphinx rendered scikit-learn.org. See: https://github.com/scikit-learn/scikit-learn/issues/21755 */display: inline-block !important;position: relative;}#sk-container-id-1 div.sk-text-repr-fallback {display: none;}</style><div id=\"sk-container-id-1\" class=\"sk-top-container\"><div class=\"sk-text-repr-fallback\"><pre>VotingClassifier(estimators=[(&#x27;XGB&#x27;,\n",
       "                              XGBClassifier(base_score=0.5, booster=&#x27;gbtree&#x27;,\n",
       "                                            callbacks=None, colsample_bylevel=1,\n",
       "                                            colsample_bynode=1,\n",
       "                                            colsample_bytree=1,\n",
       "                                            early_stopping_rounds=None,\n",
       "                                            enable_categorical=False,\n",
       "                                            eval_metric=None,\n",
       "                                            feature_types=None, gamma=0,\n",
       "                                            gpu_id=-1, grow_policy=&#x27;depthwise&#x27;,\n",
       "                                            importance_type=None,\n",
       "                                            interaction_constraints=&#x27;&#x27;,\n",
       "                                            learning_rate=0.3...\n",
       "                                            max_bin=256, max_cat_threshold=64,\n",
       "                                            max_cat_to_onehot=4,\n",
       "                                            max_delta_step=0, max_depth=6,\n",
       "                                            max_leaves=0, min_child_weight=1,\n",
       "                                            missing=nan,\n",
       "                                            monotone_constraints=&#x27;()&#x27;,\n",
       "                                            n_estimators=100, n_jobs=0,\n",
       "                                            num_parallel_tree=1,\n",
       "                                            objective=&#x27;multi:softprob&#x27;,\n",
       "                                            predictor=&#x27;auto&#x27;, ...)),\n",
       "                             (&#x27;LoRe&#x27;, LogisticRegression(max_iter=1000)),\n",
       "                             (&#x27;RaFo&#x27;, RandomForestClassifier()),\n",
       "                             (&#x27;MNB&#x27;, MultinomialNB())],\n",
       "                 voting=&#x27;soft&#x27;)</pre><b>In a Jupyter environment, please rerun this cell to show the HTML representation or trust the notebook. <br />On GitHub, the HTML representation is unable to render, please try loading this page with nbviewer.org.</b></div><div class=\"sk-container\" hidden><div class=\"sk-item sk-dashed-wrapped\"><div class=\"sk-label-container\"><div class=\"sk-label sk-toggleable\"><input class=\"sk-toggleable__control sk-hidden--visually\" id=\"sk-estimator-id-1\" type=\"checkbox\" ><label for=\"sk-estimator-id-1\" class=\"sk-toggleable__label sk-toggleable__label-arrow\">VotingClassifier</label><div class=\"sk-toggleable__content\"><pre>VotingClassifier(estimators=[(&#x27;XGB&#x27;,\n",
       "                              XGBClassifier(base_score=0.5, booster=&#x27;gbtree&#x27;,\n",
       "                                            callbacks=None, colsample_bylevel=1,\n",
       "                                            colsample_bynode=1,\n",
       "                                            colsample_bytree=1,\n",
       "                                            early_stopping_rounds=None,\n",
       "                                            enable_categorical=False,\n",
       "                                            eval_metric=None,\n",
       "                                            feature_types=None, gamma=0,\n",
       "                                            gpu_id=-1, grow_policy=&#x27;depthwise&#x27;,\n",
       "                                            importance_type=None,\n",
       "                                            interaction_constraints=&#x27;&#x27;,\n",
       "                                            learning_rate=0.3...\n",
       "                                            max_bin=256, max_cat_threshold=64,\n",
       "                                            max_cat_to_onehot=4,\n",
       "                                            max_delta_step=0, max_depth=6,\n",
       "                                            max_leaves=0, min_child_weight=1,\n",
       "                                            missing=nan,\n",
       "                                            monotone_constraints=&#x27;()&#x27;,\n",
       "                                            n_estimators=100, n_jobs=0,\n",
       "                                            num_parallel_tree=1,\n",
       "                                            objective=&#x27;multi:softprob&#x27;,\n",
       "                                            predictor=&#x27;auto&#x27;, ...)),\n",
       "                             (&#x27;LoRe&#x27;, LogisticRegression(max_iter=1000)),\n",
       "                             (&#x27;RaFo&#x27;, RandomForestClassifier()),\n",
       "                             (&#x27;MNB&#x27;, MultinomialNB())],\n",
       "                 voting=&#x27;soft&#x27;)</pre></div></div></div><div class=\"sk-parallel\"><div class=\"sk-parallel-item\"><div class=\"sk-item\"><div class=\"sk-label-container\"><div class=\"sk-label sk-toggleable\"><label>XGB</label></div></div><div class=\"sk-serial\"><div class=\"sk-item\"><div class=\"sk-estimator sk-toggleable\"><input class=\"sk-toggleable__control sk-hidden--visually\" id=\"sk-estimator-id-2\" type=\"checkbox\" ><label for=\"sk-estimator-id-2\" class=\"sk-toggleable__label sk-toggleable__label-arrow\">XGBClassifier</label><div class=\"sk-toggleable__content\"><pre>XGBClassifier(base_score=0.5, booster=&#x27;gbtree&#x27;, callbacks=None,\n",
       "              colsample_bylevel=1, colsample_bynode=1, colsample_bytree=1,\n",
       "              early_stopping_rounds=None, enable_categorical=False,\n",
       "              eval_metric=None, feature_types=None, gamma=0, gpu_id=-1,\n",
       "              grow_policy=&#x27;depthwise&#x27;, importance_type=None,\n",
       "              interaction_constraints=&#x27;&#x27;, learning_rate=0.300000012,\n",
       "              max_bin=256, max_cat_threshold=64, max_cat_to_onehot=4,\n",
       "              max_delta_step=0, max_depth=6, max_leaves=0, min_child_weight=1,\n",
       "              missing=nan, monotone_constraints=&#x27;()&#x27;, n_estimators=100,\n",
       "              n_jobs=0, num_parallel_tree=1, objective=&#x27;multi:softprob&#x27;,\n",
       "              predictor=&#x27;auto&#x27;, ...)</pre></div></div></div></div></div></div><div class=\"sk-parallel-item\"><div class=\"sk-item\"><div class=\"sk-label-container\"><div class=\"sk-label sk-toggleable\"><label>LoRe</label></div></div><div class=\"sk-serial\"><div class=\"sk-item\"><div class=\"sk-estimator sk-toggleable\"><input class=\"sk-toggleable__control sk-hidden--visually\" id=\"sk-estimator-id-3\" type=\"checkbox\" ><label for=\"sk-estimator-id-3\" class=\"sk-toggleable__label sk-toggleable__label-arrow\">LogisticRegression</label><div class=\"sk-toggleable__content\"><pre>LogisticRegression(max_iter=1000)</pre></div></div></div></div></div></div><div class=\"sk-parallel-item\"><div class=\"sk-item\"><div class=\"sk-label-container\"><div class=\"sk-label sk-toggleable\"><label>RaFo</label></div></div><div class=\"sk-serial\"><div class=\"sk-item\"><div class=\"sk-estimator sk-toggleable\"><input class=\"sk-toggleable__control sk-hidden--visually\" id=\"sk-estimator-id-4\" type=\"checkbox\" ><label for=\"sk-estimator-id-4\" class=\"sk-toggleable__label sk-toggleable__label-arrow\">RandomForestClassifier</label><div class=\"sk-toggleable__content\"><pre>RandomForestClassifier()</pre></div></div></div></div></div></div><div class=\"sk-parallel-item\"><div class=\"sk-item\"><div class=\"sk-label-container\"><div class=\"sk-label sk-toggleable\"><label>MNB</label></div></div><div class=\"sk-serial\"><div class=\"sk-item\"><div class=\"sk-estimator sk-toggleable\"><input class=\"sk-toggleable__control sk-hidden--visually\" id=\"sk-estimator-id-5\" type=\"checkbox\" ><label for=\"sk-estimator-id-5\" class=\"sk-toggleable__label sk-toggleable__label-arrow\">MultinomialNB</label><div class=\"sk-toggleable__content\"><pre>MultinomialNB()</pre></div></div></div></div></div></div></div></div></div></div>"
      ],
      "text/plain": [
       "VotingClassifier(estimators=[('XGB',\n",
       "                              XGBClassifier(base_score=0.5, booster='gbtree',\n",
       "                                            callbacks=None, colsample_bylevel=1,\n",
       "                                            colsample_bynode=1,\n",
       "                                            colsample_bytree=1,\n",
       "                                            early_stopping_rounds=None,\n",
       "                                            enable_categorical=False,\n",
       "                                            eval_metric=None,\n",
       "                                            feature_types=None, gamma=0,\n",
       "                                            gpu_id=-1, grow_policy='depthwise',\n",
       "                                            importance_type=None,\n",
       "                                            interaction_constraints='',\n",
       "                                            learning_rate=0.3...\n",
       "                                            max_bin=256, max_cat_threshold=64,\n",
       "                                            max_cat_to_onehot=4,\n",
       "                                            max_delta_step=0, max_depth=6,\n",
       "                                            max_leaves=0, min_child_weight=1,\n",
       "                                            missing=nan,\n",
       "                                            monotone_constraints='()',\n",
       "                                            n_estimators=100, n_jobs=0,\n",
       "                                            num_parallel_tree=1,\n",
       "                                            objective='multi:softprob',\n",
       "                                            predictor='auto', ...)),\n",
       "                             ('LoRe', LogisticRegression(max_iter=1000)),\n",
       "                             ('RaFo', RandomForestClassifier()),\n",
       "                             ('MNB', MultinomialNB())],\n",
       "                 voting='soft')"
      ]
     },
     "execution_count": 26,
     "metadata": {},
     "output_type": "execute_result"
    }
   ],
   "source": [
    "#### OBAMA DATA ####\n",
    "mm_scaler_w2v300 = MinMaxScaler()\n",
    "X_train_w2v300_sc_obama = mm_scaler_w2v300.fit_transform(X_train_w2v300_obama)\n",
    "X_test_w2v300_sc_obama  = mm_scaler_w2v300.transform(X_test_w2v300_obama)\n",
    "# X_cv_w2v300_sc_obama    = mm_scaler_w2v300.transform(X_cv_w2v300_obama)\n",
    "# Other Classifiers\n",
    "rf_classifier_w2v300_vc = RandomForestClassifier()\n",
    "rf_classifier_w2v300_vc.fit(X_train_w2v300_sc_obama, y_train_enc_obama)\n",
    "\n",
    "mnb_classifier_w2v300_vc = MultinomialNB()\n",
    "mnb_classifier_w2v300_vc.fit(X_train_w2v300_sc_obama, y_train_enc_obama)\n",
    "\n",
    "lr_classifier_w2v300_vc = LogisticRegression(max_iter = 1000)\n",
    "lr_classifier_w2v300_vc.fit(X_train_w2v300_sc_obama, y_train_enc_obama)\n",
    "\n",
    "xgb_classifier_w2v300_vc = XGBClassifier()\n",
    "xgb_classifier_w2v300_vc.fit(X_train_w2v300_sc_obama, y_train_enc_obama)\n",
    "# Voting Classifiers\n",
    "vc_classifier_w2v300_obama = VotingClassifier(estimators = [('XGB', xgb_classifier_w2v300_vc), \n",
    "                                                            ('LoRe', lr_classifier_w2v300_vc), \n",
    "                                                            ('RaFo', rf_classifier_w2v300_vc), \n",
    "                                                            ('MNB', mnb_classifier_w2v300_vc)\n",
    "                                                           ],\n",
    "                                              voting = 'soft'\n",
    "                                             )\n",
    "vc_classifier_w2v300_obama.fit(X_train_w2v300_sc_obama, y_train_enc_obama)"
   ]
  },
  {
   "cell_type": "code",
   "execution_count": 27,
   "metadata": {},
   "outputs": [],
   "source": [
    "# Prediction\n",
    "vc_classifier_test_w2v300_obama = vc_classifier_w2v300_obama.predict(X_test_w2v300_sc_obama)\n",
    "# vc_classifier_cv_w2v300_obama = vc_classifier_w2v300_obama.predict(X_cv_w2v300_sc_obama)\n",
    "# # Evaluation Metrics\n",
    "# print(\"VotingClassifier Obama cv, test accuracy : \", accuracy_score(y_cv_enc_obama, vc_classifier_cv_w2v300_obama), \n",
    "#                                                      accuracy_score(y_test_enc_obama, vc_classifier_test_w2v300_obama))\n",
    "# print(classification_report(y_test_enc_obama, vc_classifier_test_w2v300_obama))"
   ]
  },
  {
   "cell_type": "code",
   "execution_count": 28,
   "metadata": {},
   "outputs": [],
   "source": [
    "# Write obama results to file\n",
    "write_output('obama.txt', vc_classifier_test_w2v300_obama)"
   ]
  },
  {
   "cell_type": "code",
   "execution_count": 4,
   "metadata": {},
   "outputs": [],
   "source": [
    "# logic to validate the class labels according to label encoding  \n",
    "# for index, value in enumerate(vc_classifier_test_w2v300_obama):\n",
    "#     if value == 0:\n",
    "#         y = -1\n",
    "#     elif value == 1:\n",
    "#         y = 0\n",
    "#     elif value ==2:\n",
    "#         y = 1\n",
    "#     print(f'{index+1};;{y};;{X_test_obama.iloc[index]}')"
   ]
  },
  {
   "cell_type": "code",
   "execution_count": 82,
   "metadata": {},
   "outputs": [
    {
     "data": {
      "text/html": [
       "<style>#sk-container-id-3 {color: black;background-color: white;}#sk-container-id-3 pre{padding: 0;}#sk-container-id-3 div.sk-toggleable {background-color: white;}#sk-container-id-3 label.sk-toggleable__label {cursor: pointer;display: block;width: 100%;margin-bottom: 0;padding: 0.3em;box-sizing: border-box;text-align: center;}#sk-container-id-3 label.sk-toggleable__label-arrow:before {content: \"▸\";float: left;margin-right: 0.25em;color: #696969;}#sk-container-id-3 label.sk-toggleable__label-arrow:hover:before {color: black;}#sk-container-id-3 div.sk-estimator:hover label.sk-toggleable__label-arrow:before {color: black;}#sk-container-id-3 div.sk-toggleable__content {max-height: 0;max-width: 0;overflow: hidden;text-align: left;background-color: #f0f8ff;}#sk-container-id-3 div.sk-toggleable__content pre {margin: 0.2em;color: black;border-radius: 0.25em;background-color: #f0f8ff;}#sk-container-id-3 input.sk-toggleable__control:checked~div.sk-toggleable__content {max-height: 200px;max-width: 100%;overflow: auto;}#sk-container-id-3 input.sk-toggleable__control:checked~label.sk-toggleable__label-arrow:before {content: \"▾\";}#sk-container-id-3 div.sk-estimator input.sk-toggleable__control:checked~label.sk-toggleable__label {background-color: #d4ebff;}#sk-container-id-3 div.sk-label input.sk-toggleable__control:checked~label.sk-toggleable__label {background-color: #d4ebff;}#sk-container-id-3 input.sk-hidden--visually {border: 0;clip: rect(1px 1px 1px 1px);clip: rect(1px, 1px, 1px, 1px);height: 1px;margin: -1px;overflow: hidden;padding: 0;position: absolute;width: 1px;}#sk-container-id-3 div.sk-estimator {font-family: monospace;background-color: #f0f8ff;border: 1px dotted black;border-radius: 0.25em;box-sizing: border-box;margin-bottom: 0.5em;}#sk-container-id-3 div.sk-estimator:hover {background-color: #d4ebff;}#sk-container-id-3 div.sk-parallel-item::after {content: \"\";width: 100%;border-bottom: 1px solid gray;flex-grow: 1;}#sk-container-id-3 div.sk-label:hover label.sk-toggleable__label {background-color: #d4ebff;}#sk-container-id-3 div.sk-serial::before {content: \"\";position: absolute;border-left: 1px solid gray;box-sizing: border-box;top: 0;bottom: 0;left: 50%;z-index: 0;}#sk-container-id-3 div.sk-serial {display: flex;flex-direction: column;align-items: center;background-color: white;padding-right: 0.2em;padding-left: 0.2em;position: relative;}#sk-container-id-3 div.sk-item {position: relative;z-index: 1;}#sk-container-id-3 div.sk-parallel {display: flex;align-items: stretch;justify-content: center;background-color: white;position: relative;}#sk-container-id-3 div.sk-item::before, #sk-container-id-3 div.sk-parallel-item::before {content: \"\";position: absolute;border-left: 1px solid gray;box-sizing: border-box;top: 0;bottom: 0;left: 50%;z-index: -1;}#sk-container-id-3 div.sk-parallel-item {display: flex;flex-direction: column;z-index: 1;position: relative;background-color: white;}#sk-container-id-3 div.sk-parallel-item:first-child::after {align-self: flex-end;width: 50%;}#sk-container-id-3 div.sk-parallel-item:last-child::after {align-self: flex-start;width: 50%;}#sk-container-id-3 div.sk-parallel-item:only-child::after {width: 0;}#sk-container-id-3 div.sk-dashed-wrapped {border: 1px dashed gray;margin: 0 0.4em 0.5em 0.4em;box-sizing: border-box;padding-bottom: 0.4em;background-color: white;}#sk-container-id-3 div.sk-label label {font-family: monospace;font-weight: bold;display: inline-block;line-height: 1.2em;}#sk-container-id-3 div.sk-label-container {text-align: center;}#sk-container-id-3 div.sk-container {/* jupyter's `normalize.less` sets `[hidden] { display: none; }` but bootstrap.min.css set `[hidden] { display: none !important; }` so we also need the `!important` here to be able to override the default hidden behavior on the sphinx rendered scikit-learn.org. See: https://github.com/scikit-learn/scikit-learn/issues/21755 */display: inline-block !important;position: relative;}#sk-container-id-3 div.sk-text-repr-fallback {display: none;}</style><div id=\"sk-container-id-3\" class=\"sk-top-container\"><div class=\"sk-text-repr-fallback\"><pre>VotingClassifier(estimators=[(&#x27;XGB&#x27;,\n",
       "                              XGBClassifier(base_score=0.5, booster=&#x27;gbtree&#x27;,\n",
       "                                            callbacks=None, colsample_bylevel=1,\n",
       "                                            colsample_bynode=1,\n",
       "                                            colsample_bytree=1,\n",
       "                                            early_stopping_rounds=None,\n",
       "                                            enable_categorical=False,\n",
       "                                            eval_metric=None,\n",
       "                                            feature_types=None, gamma=0,\n",
       "                                            gpu_id=-1, grow_policy=&#x27;depthwise&#x27;,\n",
       "                                            importance_type=None,\n",
       "                                            interaction_constraints=&#x27;&#x27;,\n",
       "                                            learning_rate=0.3...\n",
       "                                            max_bin=256, max_cat_threshold=64,\n",
       "                                            max_cat_to_onehot=4,\n",
       "                                            max_delta_step=0, max_depth=6,\n",
       "                                            max_leaves=0, min_child_weight=1,\n",
       "                                            missing=nan,\n",
       "                                            monotone_constraints=&#x27;()&#x27;,\n",
       "                                            n_estimators=100, n_jobs=0,\n",
       "                                            num_parallel_tree=1,\n",
       "                                            objective=&#x27;multi:softprob&#x27;,\n",
       "                                            predictor=&#x27;auto&#x27;, ...)),\n",
       "                             (&#x27;LoRe&#x27;, LogisticRegression(max_iter=1500)),\n",
       "                             (&#x27;RaFo&#x27;, RandomForestClassifier()),\n",
       "                             (&#x27;MNB&#x27;, MultinomialNB())],\n",
       "                 voting=&#x27;soft&#x27;)</pre><b>In a Jupyter environment, please rerun this cell to show the HTML representation or trust the notebook. <br />On GitHub, the HTML representation is unable to render, please try loading this page with nbviewer.org.</b></div><div class=\"sk-container\" hidden><div class=\"sk-item sk-dashed-wrapped\"><div class=\"sk-label-container\"><div class=\"sk-label sk-toggleable\"><input class=\"sk-toggleable__control sk-hidden--visually\" id=\"sk-estimator-id-11\" type=\"checkbox\" ><label for=\"sk-estimator-id-11\" class=\"sk-toggleable__label sk-toggleable__label-arrow\">VotingClassifier</label><div class=\"sk-toggleable__content\"><pre>VotingClassifier(estimators=[(&#x27;XGB&#x27;,\n",
       "                              XGBClassifier(base_score=0.5, booster=&#x27;gbtree&#x27;,\n",
       "                                            callbacks=None, colsample_bylevel=1,\n",
       "                                            colsample_bynode=1,\n",
       "                                            colsample_bytree=1,\n",
       "                                            early_stopping_rounds=None,\n",
       "                                            enable_categorical=False,\n",
       "                                            eval_metric=None,\n",
       "                                            feature_types=None, gamma=0,\n",
       "                                            gpu_id=-1, grow_policy=&#x27;depthwise&#x27;,\n",
       "                                            importance_type=None,\n",
       "                                            interaction_constraints=&#x27;&#x27;,\n",
       "                                            learning_rate=0.3...\n",
       "                                            max_bin=256, max_cat_threshold=64,\n",
       "                                            max_cat_to_onehot=4,\n",
       "                                            max_delta_step=0, max_depth=6,\n",
       "                                            max_leaves=0, min_child_weight=1,\n",
       "                                            missing=nan,\n",
       "                                            monotone_constraints=&#x27;()&#x27;,\n",
       "                                            n_estimators=100, n_jobs=0,\n",
       "                                            num_parallel_tree=1,\n",
       "                                            objective=&#x27;multi:softprob&#x27;,\n",
       "                                            predictor=&#x27;auto&#x27;, ...)),\n",
       "                             (&#x27;LoRe&#x27;, LogisticRegression(max_iter=1500)),\n",
       "                             (&#x27;RaFo&#x27;, RandomForestClassifier()),\n",
       "                             (&#x27;MNB&#x27;, MultinomialNB())],\n",
       "                 voting=&#x27;soft&#x27;)</pre></div></div></div><div class=\"sk-parallel\"><div class=\"sk-parallel-item\"><div class=\"sk-item\"><div class=\"sk-label-container\"><div class=\"sk-label sk-toggleable\"><label>XGB</label></div></div><div class=\"sk-serial\"><div class=\"sk-item\"><div class=\"sk-estimator sk-toggleable\"><input class=\"sk-toggleable__control sk-hidden--visually\" id=\"sk-estimator-id-12\" type=\"checkbox\" ><label for=\"sk-estimator-id-12\" class=\"sk-toggleable__label sk-toggleable__label-arrow\">XGBClassifier</label><div class=\"sk-toggleable__content\"><pre>XGBClassifier(base_score=0.5, booster=&#x27;gbtree&#x27;, callbacks=None,\n",
       "              colsample_bylevel=1, colsample_bynode=1, colsample_bytree=1,\n",
       "              early_stopping_rounds=None, enable_categorical=False,\n",
       "              eval_metric=None, feature_types=None, gamma=0, gpu_id=-1,\n",
       "              grow_policy=&#x27;depthwise&#x27;, importance_type=None,\n",
       "              interaction_constraints=&#x27;&#x27;, learning_rate=0.300000012,\n",
       "              max_bin=256, max_cat_threshold=64, max_cat_to_onehot=4,\n",
       "              max_delta_step=0, max_depth=6, max_leaves=0, min_child_weight=1,\n",
       "              missing=nan, monotone_constraints=&#x27;()&#x27;, n_estimators=100,\n",
       "              n_jobs=0, num_parallel_tree=1, objective=&#x27;multi:softprob&#x27;,\n",
       "              predictor=&#x27;auto&#x27;, ...)</pre></div></div></div></div></div></div><div class=\"sk-parallel-item\"><div class=\"sk-item\"><div class=\"sk-label-container\"><div class=\"sk-label sk-toggleable\"><label>LoRe</label></div></div><div class=\"sk-serial\"><div class=\"sk-item\"><div class=\"sk-estimator sk-toggleable\"><input class=\"sk-toggleable__control sk-hidden--visually\" id=\"sk-estimator-id-13\" type=\"checkbox\" ><label for=\"sk-estimator-id-13\" class=\"sk-toggleable__label sk-toggleable__label-arrow\">LogisticRegression</label><div class=\"sk-toggleable__content\"><pre>LogisticRegression(max_iter=1500)</pre></div></div></div></div></div></div><div class=\"sk-parallel-item\"><div class=\"sk-item\"><div class=\"sk-label-container\"><div class=\"sk-label sk-toggleable\"><label>RaFo</label></div></div><div class=\"sk-serial\"><div class=\"sk-item\"><div class=\"sk-estimator sk-toggleable\"><input class=\"sk-toggleable__control sk-hidden--visually\" id=\"sk-estimator-id-14\" type=\"checkbox\" ><label for=\"sk-estimator-id-14\" class=\"sk-toggleable__label sk-toggleable__label-arrow\">RandomForestClassifier</label><div class=\"sk-toggleable__content\"><pre>RandomForestClassifier()</pre></div></div></div></div></div></div><div class=\"sk-parallel-item\"><div class=\"sk-item\"><div class=\"sk-label-container\"><div class=\"sk-label sk-toggleable\"><label>MNB</label></div></div><div class=\"sk-serial\"><div class=\"sk-item\"><div class=\"sk-estimator sk-toggleable\"><input class=\"sk-toggleable__control sk-hidden--visually\" id=\"sk-estimator-id-15\" type=\"checkbox\" ><label for=\"sk-estimator-id-15\" class=\"sk-toggleable__label sk-toggleable__label-arrow\">MultinomialNB</label><div class=\"sk-toggleable__content\"><pre>MultinomialNB()</pre></div></div></div></div></div></div></div></div></div></div>"
      ],
      "text/plain": [
       "VotingClassifier(estimators=[('XGB',\n",
       "                              XGBClassifier(base_score=0.5, booster='gbtree',\n",
       "                                            callbacks=None, colsample_bylevel=1,\n",
       "                                            colsample_bynode=1,\n",
       "                                            colsample_bytree=1,\n",
       "                                            early_stopping_rounds=None,\n",
       "                                            enable_categorical=False,\n",
       "                                            eval_metric=None,\n",
       "                                            feature_types=None, gamma=0,\n",
       "                                            gpu_id=-1, grow_policy='depthwise',\n",
       "                                            importance_type=None,\n",
       "                                            interaction_constraints='',\n",
       "                                            learning_rate=0.3...\n",
       "                                            max_bin=256, max_cat_threshold=64,\n",
       "                                            max_cat_to_onehot=4,\n",
       "                                            max_delta_step=0, max_depth=6,\n",
       "                                            max_leaves=0, min_child_weight=1,\n",
       "                                            missing=nan,\n",
       "                                            monotone_constraints='()',\n",
       "                                            n_estimators=100, n_jobs=0,\n",
       "                                            num_parallel_tree=1,\n",
       "                                            objective='multi:softprob',\n",
       "                                            predictor='auto', ...)),\n",
       "                             ('LoRe', LogisticRegression(max_iter=1500)),\n",
       "                             ('RaFo', RandomForestClassifier()),\n",
       "                             ('MNB', MultinomialNB())],\n",
       "                 voting='soft')"
      ]
     },
     "execution_count": 82,
     "metadata": {},
     "output_type": "execute_result"
    }
   ],
   "source": [
    "#### ROMNEY DATA ####\n",
    "mm_scaler_w2v300_r = MinMaxScaler()\n",
    "X_train_w2v300_sc_romney = mm_scaler_w2v300_r.fit_transform(X_train_w2v300_romney)\n",
    "X_test_w2v300_sc_romney  = mm_scaler_w2v300_r.transform(X_test_w2v300_romney)\n",
    "# X_cv_w2v300_sc_romney    = mm_scaler_w2v300_r.transform(X_cv_w2v300_romney)\n",
    "# Other Classifiers\n",
    "rf_classifier_w2v300_vc_r = RandomForestClassifier()\n",
    "rf_classifier_w2v300_vc_r.fit(X_train_w2v300_sc_romney, y_train_enc_romney)\n",
    "\n",
    "mnb_classifier_w2v300_vc_r = MultinomialNB()\n",
    "mnb_classifier_w2v300_vc_r.fit(X_train_w2v300_sc_romney, y_train_enc_romney)\n",
    "\n",
    "lr_classifier_w2v300_vc_r = LogisticRegression(max_iter = 1500)\n",
    "lr_classifier_w2v300_vc_r.fit(X_train_w2v300_sc_romney, y_train_enc_romney)\n",
    "\n",
    "xgb_classifier_w2v300_vc_r = XGBClassifier()\n",
    "xgb_classifier_w2v300_vc_r.fit(X_train_w2v300_sc_romney, y_train_enc_romney)\n",
    "# Voting Classifiers\n",
    "vc_classifier_w2v300_romney = VotingClassifier(estimators = [('XGB', xgb_classifier_w2v300_vc_r), \n",
    "                                                             ('LoRe', lr_classifier_w2v300_vc_r), \n",
    "                                                             ('RaFo', rf_classifier_w2v300_vc_r), \n",
    "                                                             ('MNB', mnb_classifier_w2v300_vc_r)\n",
    "                                                            ],\n",
    "                                               voting = 'soft'\n",
    "                                              )\n",
    "vc_classifier_w2v300_romney.fit(X_train_w2v300_sc_romney, y_train_enc_romney)"
   ]
  },
  {
   "cell_type": "code",
   "execution_count": 83,
   "metadata": {},
   "outputs": [],
   "source": [
    "# Prediction\n",
    "vc_classifier_test_w2v300_romney = vc_classifier_w2v300_romney.predict(X_test_w2v300_sc_romney)\n",
    "# vc_classifier_cv_w2v300_romney = vc_classifier_w2v300_romney.predict(X_cv_w2v300_sc_romney)\n",
    "# # Evaluation Metrics\n",
    "# print(\"VotingClassifier Romney cv, test accuracy : \", accuracy_score(y_cv_enc_romney, vc_classifier_cv_w2v300_romney), \n",
    "#                                                       accuracy_score(y_test_enc_romney, vc_classifier_test_w2v300_romney))\n",
    "# print(classification_report(y_test_enc_romney, vc_classifier_test_w2v300_romney))"
   ]
  },
  {
   "cell_type": "code",
   "execution_count": 84,
   "metadata": {},
   "outputs": [],
   "source": [
    "# Write romney results to file\n",
    "write_output('romney_balancedclassres.txt', vc_classifier_test_w2v300_romney)"
   ]
  },
  {
   "cell_type": "code",
   "execution_count": 5,
   "metadata": {},
   "outputs": [],
   "source": [
    "# # logic to validate the class labels according to label encoding  \n",
    "# neutral = 0\n",
    "# positive = 0\n",
    "# negative = 0\n",
    "# for index, value in enumerate(vc_classifier_test_w2v300_romney):\n",
    "#     if value == 0:\n",
    "#         y = -1\n",
    "#         negative += 1\n",
    "#     elif value == 1:\n",
    "#         y = 0\n",
    "#         neutral += 1\n",
    "#     elif value ==2:\n",
    "#         y = 1\n",
    "#         positive += 1\n",
    "#     print(f'{index+1};;{y};;{X_test_romney.iloc[index]}')\n",
    "#     print(f\"{romney_test_data['tweet_text'].iloc[index]}\")\n",
    "# print(\"positive\", positive, \"neutral\", neutral, \"negative\", negative) \n",
    "# # Result of the above - positive 532 neutral 617 negative 751"
   ]
  },
  {
   "attachments": {},
   "cell_type": "markdown",
   "metadata": {},
   "source": [
    "#### Final Model for Romney Data"
   ]
  },
  {
   "cell_type": "code",
   "execution_count": null,
   "metadata": {},
   "outputs": [],
   "source": [
    "lr_classifier_w2v300_r = LogisticRegression(max_iter = 1000, class_weight = \"balanced\")\n",
    "lr_classifier_w2v300_r.fit(X_train_w2v300_romney, y_train_enc_romney)\n",
    "# Prediction\n",
    "lr_w2v300_test_pred_romney = lr_classifier_w2v300_r.predict(X_test_w2v300_romney)\n",
    "# lr_w2v300_cv_pred_romney   = lr_classifier_w2v300_r.predict(X_cv_w2v300_romney)\n",
    "# # Evaluation Metrics\n",
    "# print(\"Romney LogReg W2V300 cv, test accuracy : \", accuracy_score(y_cv_enc_romney, lr_w2v300_cv_pred_romney), \n",
    "#                                                    accuracy_score(y_test_enc_romney, lr_w2v300_test_pred_romney))\n",
    "# print(classification_report(y_test_enc_romney, lr_w2v300_test_pred_romney))"
   ]
  },
  {
   "cell_type": "code",
   "execution_count": null,
   "metadata": {},
   "outputs": [],
   "source": [
    "# Write romney results to file\n",
    "write_output('romney.txt', lr_w2v300_test_pred_romney)"
   ]
  },
  {
   "cell_type": "code",
   "execution_count": 120,
   "metadata": {},
   "outputs": [],
   "source": [
    "# # logic to validate the class labels according to label encoding  \n",
    "# neutral1 = 0\n",
    "# positive1 = 0\n",
    "# negative1 = 0\n",
    "# for index, value in enumerate(lr_w2v300_test_pred_romney):\n",
    "#     if value == 0:\n",
    "#         y = -1\n",
    "#         negative1 += 1\n",
    "#     elif value == 1:\n",
    "#         y = 0\n",
    "#         neutral1 += 1\n",
    "#     elif value ==2:\n",
    "#         y = 1\n",
    "#         positive1 += 1\n",
    "#     print(f'{index+1};;{y};;{X_test_romney.iloc[index]}')\n",
    "#     print(f\"{romney_test_data['tweet_text'].iloc[index]}\")\n",
    "\n",
    "# print(\"positive\", positive1, \"neutral\", neutral1, \"negative\", negative1)"
   ]
  }
 ],
 "metadata": {
  "kernelspec": {
   "display_name": "Python 3.10.7 64-bit",
   "language": "python",
   "name": "python3"
  },
  "language_info": {
   "codemirror_mode": {
    "name": "ipython",
    "version": 3
   },
   "file_extension": ".py",
   "mimetype": "text/x-python",
   "name": "python",
   "nbconvert_exporter": "python",
   "pygments_lexer": "ipython3",
   "version": "3.10.7 (tags/v3.10.7:6cc6b13, Sep  5 2022, 14:08:36) [MSC v.1933 64 bit (AMD64)]"
  },
  "orig_nbformat": 4,
  "vscode": {
   "interpreter": {
    "hash": "ca729cba643fb94fcc99e907ef95aa96e6f038598bdb8f4c694c8ec8f9256bd9"
   }
  }
 },
 "nbformat": 4,
 "nbformat_minor": 2
}
